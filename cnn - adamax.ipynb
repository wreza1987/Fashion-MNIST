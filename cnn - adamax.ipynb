{
 "cells": [
  {
   "attachments": {},
   "cell_type": "markdown",
   "metadata": {},
   "source": [
    "# Imports"
   ]
  },
  {
   "cell_type": "code",
   "execution_count": 1,
   "metadata": {},
   "outputs": [],
   "source": [
    "import pandas as pd\n",
    "import numpy as np\n",
    "\n",
    "from tensorflow import keras\n",
    "from tensorflow.keras.models import Sequential\n",
    "from tensorflow.keras.layers import Dense, Flatten, Conv2D, MaxPool2D"
   ]
  },
  {
   "cell_type": "code",
   "execution_count": 2,
   "metadata": {},
   "outputs": [],
   "source": [
    "img_rows, img_cols = 28, 28\n",
    "num_classes = 10"
   ]
  },
  {
   "attachments": {},
   "cell_type": "markdown",
   "metadata": {},
   "source": [
    "# Load Data"
   ]
  },
  {
   "cell_type": "code",
   "execution_count": 3,
   "metadata": {},
   "outputs": [],
   "source": [
    "test_data = pd.read_csv(\"data/fashion-mnist_test.csv\")\n",
    "train_data = pd.read_csv(\"data/fashion-mnist_train.csv\")\n",
    "\n",
    "test_df = pd.DataFrame(test_data)\n",
    "train_df = pd.DataFrame(train_data)"
   ]
  },
  {
   "cell_type": "code",
   "execution_count": 4,
   "metadata": {},
   "outputs": [
    {
     "data": {
      "text/plain": [
       "((60000, 785), (10000, 785))"
      ]
     },
     "execution_count": 4,
     "metadata": {},
     "output_type": "execute_result"
    }
   ],
   "source": [
    "train_data.shape, test_data.shape"
   ]
  },
  {
   "attachments": {},
   "cell_type": "markdown",
   "metadata": {},
   "source": [
    "# Split Data"
   ]
  },
  {
   "cell_type": "code",
   "execution_count": 5,
   "metadata": {},
   "outputs": [
    {
     "data": {
      "text/plain": [
       "((60000, 28, 28, 1), (60000,), (10000, 28, 28, 1), (10000,))"
      ]
     },
     "execution_count": 5,
     "metadata": {},
     "output_type": "execute_result"
    }
   ],
   "source": [
    "train_input, train_label = np.array(train_data.iloc[:, 1:])/255, np.array(train_data.iloc[:, 0])\n",
    "test_input, test_label = np.array(test_data.iloc[:, 1:])/255, np.array(test_data.iloc[:, 0])\n",
    "\n",
    "train_input = train_input.reshape((-1, img_rows, img_cols, 1))\n",
    "test_input = test_input.reshape((-1, img_rows, img_cols, 1))\n",
    "\n",
    "train_input.shape, train_label.shape, test_input.shape, test_label.shape"
   ]
  },
  {
   "attachments": {},
   "cell_type": "markdown",
   "metadata": {},
   "source": [
    "# Build Model"
   ]
  },
  {
   "cell_type": "code",
   "execution_count": 6,
   "metadata": {},
   "outputs": [
    {
     "name": "stdout",
     "output_type": "stream",
     "text": [
      "Epoch 1/100\n",
      "1875/1875 [==============================] - 30s 16ms/step - loss: 0.4746 - accuracy: 0.8331\n",
      "Epoch 2/100\n",
      "1875/1875 [==============================] - 26s 14ms/step - loss: 0.3284 - accuracy: 0.8860\n",
      "Epoch 3/100\n",
      "1875/1875 [==============================] - 26s 14ms/step - loss: 0.2878 - accuracy: 0.8986\n",
      "Epoch 4/100\n",
      "1875/1875 [==============================] - 26s 14ms/step - loss: 0.2599 - accuracy: 0.9083\n",
      "Epoch 5/100\n",
      "1875/1875 [==============================] - 26s 14ms/step - loss: 0.2403 - accuracy: 0.9152\n",
      "Epoch 6/100\n",
      "1875/1875 [==============================] - 29s 16ms/step - loss: 0.2238 - accuracy: 0.9212\n",
      "Epoch 7/100\n",
      "1875/1875 [==============================] - 28s 15ms/step - loss: 0.2099 - accuracy: 0.9253\n",
      "Epoch 8/100\n",
      "1875/1875 [==============================] - 29s 16ms/step - loss: 0.1966 - accuracy: 0.9307\n",
      "Epoch 9/100\n",
      "1875/1875 [==============================] - 29s 15ms/step - loss: 0.1852 - accuracy: 0.9348\n",
      "Epoch 10/100\n",
      "1875/1875 [==============================] - 28s 15ms/step - loss: 0.1749 - accuracy: 0.9375\n",
      "Epoch 11/100\n",
      "1875/1875 [==============================] - 28s 15ms/step - loss: 0.1652 - accuracy: 0.9412\n",
      "Epoch 12/100\n",
      "1875/1875 [==============================] - 28s 15ms/step - loss: 0.1559 - accuracy: 0.9449\n",
      "Epoch 13/100\n",
      "1875/1875 [==============================] - 28s 15ms/step - loss: 0.1484 - accuracy: 0.9478\n",
      "Epoch 14/100\n",
      "1875/1875 [==============================] - 28s 15ms/step - loss: 0.1403 - accuracy: 0.9513\n",
      "Epoch 15/100\n",
      "1875/1875 [==============================] - 28s 15ms/step - loss: 0.1336 - accuracy: 0.9535\n",
      "Epoch 16/100\n",
      "1875/1875 [==============================] - 28s 15ms/step - loss: 0.1270 - accuracy: 0.9559\n",
      "Epoch 17/100\n",
      "1875/1875 [==============================] - 28s 15ms/step - loss: 0.1203 - accuracy: 0.9580\n",
      "Epoch 18/100\n",
      "1875/1875 [==============================] - 28s 15ms/step - loss: 0.1134 - accuracy: 0.9606\n",
      "Epoch 19/100\n",
      "1875/1875 [==============================] - 28s 15ms/step - loss: 0.1086 - accuracy: 0.9625\n",
      "Epoch 20/100\n",
      "1875/1875 [==============================] - 28s 15ms/step - loss: 0.1033 - accuracy: 0.9648\n",
      "Epoch 21/100\n",
      "1875/1875 [==============================] - 28s 15ms/step - loss: 0.0971 - accuracy: 0.9668\n",
      "Epoch 22/100\n",
      "1875/1875 [==============================] - 27s 15ms/step - loss: 0.0919 - accuracy: 0.9692\n",
      "Epoch 23/100\n",
      "1875/1875 [==============================] - 28s 15ms/step - loss: 0.0887 - accuracy: 0.9698\n",
      "Epoch 24/100\n",
      "1875/1875 [==============================] - 28s 15ms/step - loss: 0.0831 - accuracy: 0.9722\n",
      "Epoch 25/100\n",
      "1875/1875 [==============================] - 28s 15ms/step - loss: 0.0795 - accuracy: 0.9739\n",
      "Epoch 26/100\n",
      "1875/1875 [==============================] - 28s 15ms/step - loss: 0.0747 - accuracy: 0.9752\n",
      "Epoch 27/100\n",
      "1875/1875 [==============================] - 28s 15ms/step - loss: 0.0698 - accuracy: 0.9777\n",
      "Epoch 28/100\n",
      "1875/1875 [==============================] - 28s 15ms/step - loss: 0.0658 - accuracy: 0.9793\n",
      "Epoch 29/100\n",
      "1875/1875 [==============================] - 28s 15ms/step - loss: 0.0632 - accuracy: 0.9797\n",
      "Epoch 30/100\n",
      "1875/1875 [==============================] - 29s 15ms/step - loss: 0.0581 - accuracy: 0.9826\n",
      "Epoch 31/100\n",
      "1875/1875 [==============================] - 28s 15ms/step - loss: 0.0552 - accuracy: 0.9824\n",
      "Epoch 32/100\n",
      "1875/1875 [==============================] - 28s 15ms/step - loss: 0.0523 - accuracy: 0.9843\n",
      "Epoch 33/100\n",
      "1875/1875 [==============================] - 28s 15ms/step - loss: 0.0487 - accuracy: 0.9851\n",
      "Epoch 34/100\n",
      "1875/1875 [==============================] - 28s 15ms/step - loss: 0.0464 - accuracy: 0.9862\n",
      "Epoch 35/100\n",
      "1875/1875 [==============================] - 28s 15ms/step - loss: 0.0432 - accuracy: 0.9876\n",
      "Epoch 36/100\n",
      "1875/1875 [==============================] - 28s 15ms/step - loss: 0.0408 - accuracy: 0.9879\n",
      "Epoch 37/100\n",
      "1875/1875 [==============================] - 28s 15ms/step - loss: 0.0381 - accuracy: 0.9890\n",
      "Epoch 38/100\n",
      "1875/1875 [==============================] - 28s 15ms/step - loss: 0.0356 - accuracy: 0.9906\n",
      "Epoch 39/100\n",
      "1875/1875 [==============================] - 28s 15ms/step - loss: 0.0327 - accuracy: 0.9914\n",
      "Epoch 40/100\n",
      "1875/1875 [==============================] - 28s 15ms/step - loss: 0.0316 - accuracy: 0.9917\n",
      "Epoch 41/100\n",
      "1875/1875 [==============================] - 28s 15ms/step - loss: 0.0296 - accuracy: 0.9919\n",
      "Epoch 42/100\n",
      "1875/1875 [==============================] - 28s 15ms/step - loss: 0.0282 - accuracy: 0.9925\n",
      "Epoch 43/100\n",
      "1875/1875 [==============================] - 28s 15ms/step - loss: 0.0250 - accuracy: 0.9938\n",
      "Epoch 44/100\n",
      "1875/1875 [==============================] - 28s 15ms/step - loss: 0.0241 - accuracy: 0.9944\n",
      "Epoch 45/100\n",
      "1875/1875 [==============================] - 28s 15ms/step - loss: 0.0223 - accuracy: 0.9950\n",
      "Epoch 46/100\n",
      "1875/1875 [==============================] - 28s 15ms/step - loss: 0.0214 - accuracy: 0.9950\n",
      "Epoch 47/100\n",
      "1875/1875 [==============================] - 28s 15ms/step - loss: 0.0194 - accuracy: 0.9954\n",
      "Epoch 48/100\n",
      "1875/1875 [==============================] - 28s 15ms/step - loss: 0.0187 - accuracy: 0.9955\n",
      "Epoch 49/100\n",
      "1875/1875 [==============================] - 28s 15ms/step - loss: 0.0168 - accuracy: 0.9964\n",
      "Epoch 50/100\n",
      "1875/1875 [==============================] - 28s 15ms/step - loss: 0.0158 - accuracy: 0.9964\n",
      "Epoch 51/100\n",
      "1875/1875 [==============================] - 28s 15ms/step - loss: 0.0146 - accuracy: 0.9970\n",
      "Epoch 52/100\n",
      "1875/1875 [==============================] - 28s 15ms/step - loss: 0.0139 - accuracy: 0.9972\n",
      "Epoch 53/100\n",
      "1875/1875 [==============================] - 28s 15ms/step - loss: 0.0125 - accuracy: 0.9979\n",
      "Epoch 54/100\n",
      "1875/1875 [==============================] - 28s 15ms/step - loss: 0.0116 - accuracy: 0.9979\n",
      "Epoch 55/100\n",
      "1875/1875 [==============================] - 28s 15ms/step - loss: 0.0109 - accuracy: 0.9980\n",
      "Epoch 56/100\n",
      "1875/1875 [==============================] - 28s 15ms/step - loss: 0.0103 - accuracy: 0.9980\n",
      "Epoch 57/100\n",
      "1875/1875 [==============================] - 27s 15ms/step - loss: 0.0094 - accuracy: 0.9985\n",
      "Epoch 58/100\n",
      "1875/1875 [==============================] - 28s 15ms/step - loss: 0.0086 - accuracy: 0.9987\n",
      "Epoch 59/100\n",
      "1875/1875 [==============================] - 28s 15ms/step - loss: 0.0079 - accuracy: 0.9988\n",
      "Epoch 60/100\n",
      "1875/1875 [==============================] - 28s 15ms/step - loss: 0.0074 - accuracy: 0.9990\n",
      "Epoch 61/100\n",
      "1875/1875 [==============================] - 29s 15ms/step - loss: 0.0070 - accuracy: 0.9990\n",
      "Epoch 62/100\n",
      "1875/1875 [==============================] - 27s 15ms/step - loss: 0.0064 - accuracy: 0.9992\n",
      "Epoch 63/100\n",
      "1875/1875 [==============================] - 27s 15ms/step - loss: 0.0054 - accuracy: 0.9995\n",
      "Epoch 64/100\n",
      "1875/1875 [==============================] - 27s 15ms/step - loss: 0.0055 - accuracy: 0.9994\n",
      "Epoch 65/100\n",
      "1875/1875 [==============================] - 27s 14ms/step - loss: 0.0050 - accuracy: 0.9995\n",
      "Epoch 66/100\n",
      "1875/1875 [==============================] - 27s 15ms/step - loss: 0.0045 - accuracy: 0.9995\n",
      "Epoch 67/100\n",
      "1875/1875 [==============================] - 27s 14ms/step - loss: 0.0043 - accuracy: 0.9996\n",
      "Epoch 68/100\n",
      "1875/1875 [==============================] - 27s 15ms/step - loss: 0.0038 - accuracy: 0.9996\n",
      "Epoch 69/100\n",
      "1875/1875 [==============================] - 27s 14ms/step - loss: 0.0037 - accuracy: 0.9997\n",
      "Epoch 70/100\n",
      "1875/1875 [==============================] - 27s 15ms/step - loss: 0.0031 - accuracy: 0.9998\n",
      "Epoch 71/100\n",
      "1875/1875 [==============================] - 27s 14ms/step - loss: 0.0031 - accuracy: 0.9998\n",
      "Epoch 72/100\n",
      "1875/1875 [==============================] - 27s 15ms/step - loss: 0.0032 - accuracy: 0.9997\n",
      "Epoch 73/100\n",
      "1875/1875 [==============================] - 27s 15ms/step - loss: 0.0027 - accuracy: 0.9999\n",
      "Epoch 74/100\n",
      "1875/1875 [==============================] - 27s 15ms/step - loss: 0.0026 - accuracy: 0.9998\n",
      "Epoch 75/100\n",
      "1875/1875 [==============================] - 27s 15ms/step - loss: 0.0022 - accuracy: 0.9998\n",
      "Epoch 76/100\n",
      "1875/1875 [==============================] - 27s 14ms/step - loss: 0.0020 - accuracy: 0.9998\n",
      "Epoch 77/100\n",
      "1875/1875 [==============================] - 27s 15ms/step - loss: 0.0018 - accuracy: 0.9999\n",
      "Epoch 78/100\n",
      "1875/1875 [==============================] - 27s 15ms/step - loss: 0.0018 - accuracy: 0.9999\n",
      "Epoch 79/100\n",
      "1875/1875 [==============================] - 27s 15ms/step - loss: 0.0017 - accuracy: 0.9999\n",
      "Epoch 80/100\n",
      "1875/1875 [==============================] - 27s 15ms/step - loss: 0.0015 - accuracy: 0.9999\n",
      "Epoch 81/100\n",
      "1875/1875 [==============================] - 27s 15ms/step - loss: 0.0016 - accuracy: 0.9999\n",
      "Epoch 82/100\n",
      "1875/1875 [==============================] - 27s 15ms/step - loss: 0.0015 - accuracy: 0.9999\n",
      "Epoch 83/100\n",
      "1875/1875 [==============================] - 27s 15ms/step - loss: 0.0012 - accuracy: 0.9999\n",
      "Epoch 84/100\n",
      "1875/1875 [==============================] - 27s 15ms/step - loss: 0.0013 - accuracy: 0.9999\n",
      "Epoch 85/100\n",
      "1875/1875 [==============================] - 27s 15ms/step - loss: 9.5976e-04 - accuracy: 1.0000\n",
      "Epoch 86/100\n",
      "1875/1875 [==============================] - 28s 15ms/step - loss: 0.0011 - accuracy: 0.9999\n",
      "Epoch 87/100\n",
      "1875/1875 [==============================] - 28s 15ms/step - loss: 9.6864e-04 - accuracy: 0.9999\n",
      "Epoch 88/100\n",
      "1875/1875 [==============================] - 28s 15ms/step - loss: 8.6189e-04 - accuracy: 1.0000\n",
      "Epoch 89/100\n",
      "1875/1875 [==============================] - 27s 15ms/step - loss: 7.8714e-04 - accuracy: 1.0000\n",
      "Epoch 90/100\n",
      "1875/1875 [==============================] - 28s 15ms/step - loss: 8.6954e-04 - accuracy: 0.9999\n",
      "Epoch 91/100\n",
      "1875/1875 [==============================] - 27s 15ms/step - loss: 7.5364e-04 - accuracy: 1.0000\n",
      "Epoch 92/100\n",
      "1875/1875 [==============================] - 27s 15ms/step - loss: 7.4335e-04 - accuracy: 1.0000\n",
      "Epoch 93/100\n",
      "1875/1875 [==============================] - 27s 15ms/step - loss: 6.4807e-04 - accuracy: 1.0000\n",
      "Epoch 94/100\n",
      "1875/1875 [==============================] - 27s 15ms/step - loss: 6.8529e-04 - accuracy: 0.9999\n",
      "Epoch 95/100\n",
      "1875/1875 [==============================] - 28s 15ms/step - loss: 4.9525e-04 - accuracy: 1.0000\n",
      "Epoch 96/100\n",
      "1875/1875 [==============================] - 27s 15ms/step - loss: 5.7705e-04 - accuracy: 1.0000\n",
      "Epoch 97/100\n",
      "1875/1875 [==============================] - 27s 15ms/step - loss: 4.7677e-04 - accuracy: 1.0000\n",
      "Epoch 98/100\n",
      "1875/1875 [==============================] - 27s 15ms/step - loss: 4.9925e-04 - accuracy: 1.0000\n",
      "Epoch 99/100\n",
      "1875/1875 [==============================] - 28s 15ms/step - loss: 4.2974e-04 - accuracy: 1.0000\n",
      "Epoch 100/100\n",
      "1875/1875 [==============================] - 28s 15ms/step - loss: 3.7656e-04 - accuracy: 1.0000\n"
     ]
    },
    {
     "data": {
      "text/plain": [
       "<keras.callbacks.History at 0x1699acf74e0>"
      ]
     },
     "execution_count": 6,
     "metadata": {},
     "output_type": "execute_result"
    }
   ],
   "source": [
    "model = Sequential()\n",
    "model.add(Conv2D(64, (3, 3), activation='relu', input_shape=(img_rows, img_cols, 1)))\n",
    "model.add(MaxPool2D(2,2))\n",
    "model.add(Flatten())\n",
    "model.add(Dense(50, activation='relu'))\n",
    "model.add(Dense(10, activation='softmax'))\n",
    "model.compile(loss='sparse_categorical_crossentropy', optimizer=keras.optimizers.Adamax(), metrics=['accuracy'])\n",
    "model.fit(train_input, train_label, epochs=100)"
   ]
  },
  {
   "attachments": {},
   "cell_type": "markdown",
   "metadata": {},
   "source": [
    "# Predicting"
   ]
  },
  {
   "cell_type": "code",
   "execution_count": 7,
   "metadata": {},
   "outputs": [
    {
     "name": "stdout",
     "output_type": "stream",
     "text": [
      "313/313 [==============================] - 2s 5ms/step\n"
     ]
    }
   ],
   "source": [
    "test_predict = model.predict(test_input)"
   ]
  },
  {
   "attachments": {},
   "cell_type": "markdown",
   "metadata": {},
   "source": [
    "# Calculate Percentage of Predicting"
   ]
  },
  {
   "cell_type": "code",
   "execution_count": 8,
   "metadata": {},
   "outputs": [
    {
     "data": {
      "text/plain": [
       "92.39"
      ]
     },
     "execution_count": 8,
     "metadata": {},
     "output_type": "execute_result"
    }
   ],
   "source": [
    "correct = (np.argmax(test_predict, axis=1) == test_label).sum()\n",
    "incorrect = (np.argmax(test_predict, axis=1) != test_label).sum()\n",
    "\n",
    "correct_prc = correct / (correct+incorrect) * 100\n",
    "\n",
    "correct_prc"
   ]
  },
  {
   "cell_type": "code",
   "execution_count": 9,
   "metadata": {},
   "outputs": [
    {
     "name": "stderr",
     "output_type": "stream",
     "text": [
      "WARNING:absl:Found untraced functions such as _jit_compiled_convolution_op while saving (showing 1 of 1). These functions will not be directly callable after loading.\n"
     ]
    },
    {
     "name": "stdout",
     "output_type": "stream",
     "text": [
      "INFO:tensorflow:Assets written to: model\\assets\n"
     ]
    },
    {
     "name": "stderr",
     "output_type": "stream",
     "text": [
      "INFO:tensorflow:Assets written to: model\\assets\n"
     ]
    }
   ],
   "source": [
    "model.save(\"model\")"
   ]
  },
  {
   "cell_type": "code",
   "execution_count": null,
   "metadata": {},
   "outputs": [],
   "source": []
  }
 ],
 "metadata": {
  "kernelspec": {
   "display_name": "Python 3",
   "language": "python",
   "name": "python3"
  },
  "language_info": {
   "codemirror_mode": {
    "name": "ipython",
    "version": 3
   },
   "file_extension": ".py",
   "mimetype": "text/x-python",
   "name": "python",
   "nbconvert_exporter": "python",
   "pygments_lexer": "ipython3",
   "version": "3.7.1rc1"
  },
  "orig_nbformat": 4,
  "vscode": {
   "interpreter": {
    "hash": "4302f71f881f01a44fdbbc2ebd8675f271652b3a53c4968c7437bae2749ff913"
   }
  }
 },
 "nbformat": 4,
 "nbformat_minor": 2
}
