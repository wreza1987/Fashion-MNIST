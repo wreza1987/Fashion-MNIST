{
 "cells": [
  {
   "attachments": {},
   "cell_type": "markdown",
   "metadata": {},
   "source": [
    "# Imports (keras)"
   ]
  },
  {
   "cell_type": "code",
   "execution_count": 1,
   "metadata": {},
   "outputs": [],
   "source": [
    "import pandas as pd\n",
    "import numpy as np\n",
    "\n",
    "from tensorflow import keras\n",
    "from tensorflow.keras.models import Sequential\n",
    "from tensorflow.keras.layers import Dense, Flatten, Conv2D, MaxPool2D"
   ]
  },
  {
   "attachments": {},
   "cell_type": "markdown",
   "metadata": {},
   "source": [
    "# Load Data"
   ]
  },
  {
   "cell_type": "code",
   "execution_count": 2,
   "metadata": {},
   "outputs": [],
   "source": [
    "img_rows, img_cols = 28, 28\n",
    "num_classes = 10"
   ]
  },
  {
   "cell_type": "code",
   "execution_count": 3,
   "metadata": {},
   "outputs": [],
   "source": [
    "test_data = pd.read_csv(\"data/fashion-mnist_test.csv\")\n",
    "train_data = pd.read_csv(\"data/fashion-mnist_train.csv\")\n",
    "\n",
    "test_df = pd.DataFrame(test_data)\n",
    "train_df = pd.DataFrame(train_data)"
   ]
  },
  {
   "cell_type": "code",
   "execution_count": 4,
   "metadata": {},
   "outputs": [
    {
     "data": {
      "text/plain": [
       "((60000, 785), (10000, 785))"
      ]
     },
     "execution_count": 4,
     "metadata": {},
     "output_type": "execute_result"
    }
   ],
   "source": [
    "train_data.shape, test_data.shape"
   ]
  },
  {
   "attachments": {},
   "cell_type": "markdown",
   "metadata": {},
   "source": [
    "# Split Data"
   ]
  },
  {
   "cell_type": "code",
   "execution_count": 5,
   "metadata": {},
   "outputs": [
    {
     "data": {
      "text/plain": [
       "((60000, 784), (60000,), (10000, 784), (10000,))"
      ]
     },
     "execution_count": 5,
     "metadata": {},
     "output_type": "execute_result"
    }
   ],
   "source": [
    "train_input, train_label = np.array(train_data.iloc[:, 1:])/255, np.array(train_data.iloc[:, 0])\n",
    "test_input, test_label = np.array(test_data.iloc[:, 1:])/255, np.array(test_data.iloc[:, 0])\n",
    "\n",
    "train_input.shape, train_label.shape, test_input.shape, test_label.shape"
   ]
  },
  {
   "attachments": {},
   "cell_type": "markdown",
   "metadata": {},
   "source": [
    "# Build Model"
   ]
  },
  {
   "cell_type": "code",
   "execution_count": 6,
   "metadata": {},
   "outputs": [
    {
     "name": "stdout",
     "output_type": "stream",
     "text": [
      "Epoch 1/100\n",
      "1875/1875 - 5s - loss: 0.4822 - accuracy: 0.8271 - 5s/epoch - 3ms/step\n",
      "Epoch 2/100\n",
      "1875/1875 - 4s - loss: 0.3672 - accuracy: 0.8649 - 4s/epoch - 2ms/step\n",
      "Epoch 3/100\n",
      "1875/1875 - 4s - loss: 0.3287 - accuracy: 0.8792 - 4s/epoch - 2ms/step\n",
      "Epoch 4/100\n",
      "1875/1875 - 4s - loss: 0.3060 - accuracy: 0.8863 - 4s/epoch - 2ms/step\n",
      "Epoch 5/100\n",
      "1875/1875 - 4s - loss: 0.2857 - accuracy: 0.8948 - 4s/epoch - 2ms/step\n",
      "Epoch 6/100\n",
      "1875/1875 - 4s - loss: 0.2716 - accuracy: 0.8987 - 4s/epoch - 2ms/step\n",
      "Epoch 7/100\n",
      "1875/1875 - 4s - loss: 0.2591 - accuracy: 0.9024 - 4s/epoch - 2ms/step\n",
      "Epoch 8/100\n",
      "1875/1875 - 4s - loss: 0.2519 - accuracy: 0.9051 - 4s/epoch - 2ms/step\n",
      "Epoch 9/100\n",
      "1875/1875 - 4s - loss: 0.2369 - accuracy: 0.9105 - 4s/epoch - 2ms/step\n",
      "Epoch 10/100\n",
      "1875/1875 - 4s - loss: 0.2298 - accuracy: 0.9132 - 4s/epoch - 2ms/step\n",
      "Epoch 11/100\n",
      "1875/1875 - 4s - loss: 0.2165 - accuracy: 0.9177 - 4s/epoch - 2ms/step\n",
      "Epoch 12/100\n",
      "1875/1875 - 4s - loss: 0.2117 - accuracy: 0.9193 - 4s/epoch - 2ms/step\n",
      "Epoch 13/100\n",
      "1875/1875 - 4s - loss: 0.2040 - accuracy: 0.9220 - 4s/epoch - 2ms/step\n",
      "Epoch 14/100\n",
      "1875/1875 - 4s - loss: 0.1980 - accuracy: 0.9244 - 4s/epoch - 2ms/step\n",
      "Epoch 15/100\n",
      "1875/1875 - 4s - loss: 0.1906 - accuracy: 0.9273 - 4s/epoch - 2ms/step\n",
      "Epoch 16/100\n",
      "1875/1875 - 4s - loss: 0.1848 - accuracy: 0.9302 - 4s/epoch - 2ms/step\n",
      "Epoch 17/100\n",
      "1875/1875 - 4s - loss: 0.1774 - accuracy: 0.9324 - 4s/epoch - 2ms/step\n",
      "Epoch 18/100\n",
      "1875/1875 - 4s - loss: 0.1731 - accuracy: 0.9346 - 4s/epoch - 2ms/step\n",
      "Epoch 19/100\n",
      "1875/1875 - 4s - loss: 0.1693 - accuracy: 0.9352 - 4s/epoch - 2ms/step\n",
      "Epoch 20/100\n",
      "1875/1875 - 4s - loss: 0.1643 - accuracy: 0.9374 - 4s/epoch - 2ms/step\n",
      "Epoch 21/100\n",
      "1875/1875 - 4s - loss: 0.1601 - accuracy: 0.9392 - 4s/epoch - 2ms/step\n",
      "Epoch 22/100\n",
      "1875/1875 - 4s - loss: 0.1548 - accuracy: 0.9408 - 4s/epoch - 2ms/step\n",
      "Epoch 23/100\n",
      "1875/1875 - 5s - loss: 0.1536 - accuracy: 0.9415 - 5s/epoch - 2ms/step\n",
      "Epoch 24/100\n",
      "1875/1875 - 4s - loss: 0.1461 - accuracy: 0.9441 - 4s/epoch - 2ms/step\n",
      "Epoch 25/100\n",
      "1875/1875 - 4s - loss: 0.1450 - accuracy: 0.9456 - 4s/epoch - 2ms/step\n",
      "Epoch 26/100\n",
      "1875/1875 - 4s - loss: 0.1402 - accuracy: 0.9467 - 4s/epoch - 2ms/step\n",
      "Epoch 27/100\n",
      "1875/1875 - 4s - loss: 0.1381 - accuracy: 0.9473 - 4s/epoch - 2ms/step\n",
      "Epoch 28/100\n",
      "1875/1875 - 4s - loss: 0.1349 - accuracy: 0.9490 - 4s/epoch - 2ms/step\n",
      "Epoch 29/100\n",
      "1875/1875 - 4s - loss: 0.1307 - accuracy: 0.9495 - 4s/epoch - 2ms/step\n",
      "Epoch 30/100\n",
      "1875/1875 - 4s - loss: 0.1262 - accuracy: 0.9523 - 4s/epoch - 2ms/step\n",
      "Epoch 31/100\n",
      "1875/1875 - 4s - loss: 0.1265 - accuracy: 0.9513 - 4s/epoch - 2ms/step\n",
      "Epoch 32/100\n",
      "1875/1875 - 4s - loss: 0.1188 - accuracy: 0.9540 - 4s/epoch - 2ms/step\n",
      "Epoch 33/100\n",
      "1875/1875 - 4s - loss: 0.1193 - accuracy: 0.9550 - 4s/epoch - 2ms/step\n",
      "Epoch 34/100\n",
      "1875/1875 - 4s - loss: 0.1170 - accuracy: 0.9560 - 4s/epoch - 2ms/step\n",
      "Epoch 35/100\n",
      "1875/1875 - 4s - loss: 0.1128 - accuracy: 0.9564 - 4s/epoch - 2ms/step\n",
      "Epoch 36/100\n",
      "1875/1875 - 4s - loss: 0.1137 - accuracy: 0.9568 - 4s/epoch - 2ms/step\n",
      "Epoch 37/100\n",
      "1875/1875 - 4s - loss: 0.1094 - accuracy: 0.9584 - 4s/epoch - 2ms/step\n",
      "Epoch 38/100\n",
      "1875/1875 - 4s - loss: 0.1044 - accuracy: 0.9597 - 4s/epoch - 2ms/step\n",
      "Epoch 39/100\n",
      "1875/1875 - 4s - loss: 0.1033 - accuracy: 0.9611 - 4s/epoch - 2ms/step\n",
      "Epoch 40/100\n",
      "1875/1875 - 4s - loss: 0.1047 - accuracy: 0.9598 - 4s/epoch - 2ms/step\n",
      "Epoch 41/100\n",
      "1875/1875 - 4s - loss: 0.1023 - accuracy: 0.9617 - 4s/epoch - 2ms/step\n",
      "Epoch 42/100\n",
      "1875/1875 - 4s - loss: 0.0950 - accuracy: 0.9628 - 4s/epoch - 2ms/step\n",
      "Epoch 43/100\n",
      "1875/1875 - 4s - loss: 0.0987 - accuracy: 0.9622 - 4s/epoch - 2ms/step\n",
      "Epoch 44/100\n",
      "1875/1875 - 4s - loss: 0.0935 - accuracy: 0.9636 - 4s/epoch - 2ms/step\n",
      "Epoch 45/100\n",
      "1875/1875 - 4s - loss: 0.0974 - accuracy: 0.9628 - 4s/epoch - 2ms/step\n",
      "Epoch 46/100\n",
      "1875/1875 - 4s - loss: 0.0890 - accuracy: 0.9667 - 4s/epoch - 2ms/step\n",
      "Epoch 47/100\n",
      "1875/1875 - 4s - loss: 0.0924 - accuracy: 0.9653 - 4s/epoch - 2ms/step\n",
      "Epoch 48/100\n",
      "1875/1875 - 4s - loss: 0.0865 - accuracy: 0.9671 - 4s/epoch - 2ms/step\n",
      "Epoch 49/100\n",
      "1875/1875 - 4s - loss: 0.0856 - accuracy: 0.9675 - 4s/epoch - 2ms/step\n",
      "Epoch 50/100\n",
      "1875/1875 - 4s - loss: 0.0839 - accuracy: 0.9675 - 4s/epoch - 2ms/step\n",
      "Epoch 51/100\n",
      "1875/1875 - 4s - loss: 0.0857 - accuracy: 0.9680 - 4s/epoch - 2ms/step\n",
      "Epoch 52/100\n",
      "1875/1875 - 4s - loss: 0.0842 - accuracy: 0.9677 - 4s/epoch - 2ms/step\n",
      "Epoch 53/100\n",
      "1875/1875 - 4s - loss: 0.0824 - accuracy: 0.9689 - 4s/epoch - 2ms/step\n",
      "Epoch 54/100\n",
      "1875/1875 - 4s - loss: 0.0793 - accuracy: 0.9699 - 4s/epoch - 2ms/step\n",
      "Epoch 55/100\n",
      "1875/1875 - 4s - loss: 0.0773 - accuracy: 0.9704 - 4s/epoch - 2ms/step\n",
      "Epoch 56/100\n",
      "1875/1875 - 4s - loss: 0.0809 - accuracy: 0.9695 - 4s/epoch - 2ms/step\n",
      "Epoch 57/100\n",
      "1875/1875 - 4s - loss: 0.0746 - accuracy: 0.9714 - 4s/epoch - 2ms/step\n",
      "Epoch 58/100\n",
      "1875/1875 - 4s - loss: 0.0771 - accuracy: 0.9704 - 4s/epoch - 2ms/step\n",
      "Epoch 59/100\n",
      "1875/1875 - 4s - loss: 0.0725 - accuracy: 0.9728 - 4s/epoch - 2ms/step\n",
      "Epoch 60/100\n",
      "1875/1875 - 4s - loss: 0.0760 - accuracy: 0.9727 - 4s/epoch - 2ms/step\n",
      "Epoch 61/100\n",
      "1875/1875 - 4s - loss: 0.0703 - accuracy: 0.9736 - 4s/epoch - 2ms/step\n",
      "Epoch 62/100\n",
      "1875/1875 - 4s - loss: 0.0733 - accuracy: 0.9726 - 4s/epoch - 2ms/step\n",
      "Epoch 63/100\n",
      "1875/1875 - 4s - loss: 0.0731 - accuracy: 0.9727 - 4s/epoch - 2ms/step\n",
      "Epoch 64/100\n",
      "1875/1875 - 4s - loss: 0.0640 - accuracy: 0.9762 - 4s/epoch - 2ms/step\n",
      "Epoch 65/100\n",
      "1875/1875 - 4s - loss: 0.0711 - accuracy: 0.9738 - 4s/epoch - 2ms/step\n",
      "Epoch 66/100\n",
      "1875/1875 - 4s - loss: 0.0671 - accuracy: 0.9752 - 4s/epoch - 2ms/step\n",
      "Epoch 67/100\n",
      "1875/1875 - 4s - loss: 0.0671 - accuracy: 0.9746 - 4s/epoch - 2ms/step\n",
      "Epoch 68/100\n",
      "1875/1875 - 4s - loss: 0.0666 - accuracy: 0.9754 - 4s/epoch - 2ms/step\n",
      "Epoch 69/100\n",
      "1875/1875 - 4s - loss: 0.0692 - accuracy: 0.9749 - 4s/epoch - 2ms/step\n",
      "Epoch 70/100\n",
      "1875/1875 - 4s - loss: 0.0639 - accuracy: 0.9762 - 4s/epoch - 2ms/step\n",
      "Epoch 71/100\n",
      "1875/1875 - 4s - loss: 0.0618 - accuracy: 0.9771 - 4s/epoch - 2ms/step\n",
      "Epoch 72/100\n",
      "1875/1875 - 4s - loss: 0.0624 - accuracy: 0.9760 - 4s/epoch - 2ms/step\n",
      "Epoch 73/100\n",
      "1875/1875 - 4s - loss: 0.0671 - accuracy: 0.9756 - 4s/epoch - 2ms/step\n",
      "Epoch 74/100\n",
      "1875/1875 - 4s - loss: 0.0610 - accuracy: 0.9773 - 4s/epoch - 2ms/step\n",
      "Epoch 75/100\n",
      "1875/1875 - 4s - loss: 0.0593 - accuracy: 0.9782 - 4s/epoch - 2ms/step\n",
      "Epoch 76/100\n",
      "1875/1875 - 4s - loss: 0.0612 - accuracy: 0.9771 - 4s/epoch - 2ms/step\n",
      "Epoch 77/100\n",
      "1875/1875 - 4s - loss: 0.0616 - accuracy: 0.9772 - 4s/epoch - 2ms/step\n",
      "Epoch 78/100\n",
      "1875/1875 - 4s - loss: 0.0585 - accuracy: 0.9784 - 4s/epoch - 2ms/step\n",
      "Epoch 79/100\n",
      "1875/1875 - 4s - loss: 0.0568 - accuracy: 0.9784 - 4s/epoch - 2ms/step\n",
      "Epoch 80/100\n",
      "1875/1875 - 4s - loss: 0.0559 - accuracy: 0.9796 - 4s/epoch - 2ms/step\n",
      "Epoch 81/100\n",
      "1875/1875 - 4s - loss: 0.0566 - accuracy: 0.9783 - 4s/epoch - 2ms/step\n",
      "Epoch 82/100\n",
      "1875/1875 - 4s - loss: 0.0542 - accuracy: 0.9798 - 4s/epoch - 2ms/step\n",
      "Epoch 83/100\n",
      "1875/1875 - 4s - loss: 0.0548 - accuracy: 0.9802 - 4s/epoch - 2ms/step\n",
      "Epoch 84/100\n",
      "1875/1875 - 4s - loss: 0.0567 - accuracy: 0.9794 - 4s/epoch - 2ms/step\n",
      "Epoch 85/100\n",
      "1875/1875 - 4s - loss: 0.0522 - accuracy: 0.9809 - 4s/epoch - 2ms/step\n",
      "Epoch 86/100\n",
      "1875/1875 - 4s - loss: 0.0537 - accuracy: 0.9808 - 4s/epoch - 2ms/step\n",
      "Epoch 87/100\n",
      "1875/1875 - 4s - loss: 0.0517 - accuracy: 0.9810 - 4s/epoch - 2ms/step\n",
      "Epoch 88/100\n",
      "1875/1875 - 4s - loss: 0.0557 - accuracy: 0.9800 - 4s/epoch - 2ms/step\n",
      "Epoch 89/100\n",
      "1875/1875 - 4s - loss: 0.0526 - accuracy: 0.9815 - 4s/epoch - 2ms/step\n",
      "Epoch 90/100\n",
      "1875/1875 - 4s - loss: 0.0533 - accuracy: 0.9803 - 4s/epoch - 2ms/step\n",
      "Epoch 91/100\n",
      "1875/1875 - 4s - loss: 0.0504 - accuracy: 0.9814 - 4s/epoch - 2ms/step\n",
      "Epoch 92/100\n",
      "1875/1875 - 4s - loss: 0.0514 - accuracy: 0.9820 - 4s/epoch - 2ms/step\n",
      "Epoch 93/100\n",
      "1875/1875 - 4s - loss: 0.0507 - accuracy: 0.9828 - 4s/epoch - 2ms/step\n",
      "Epoch 94/100\n",
      "1875/1875 - 4s - loss: 0.0513 - accuracy: 0.9819 - 4s/epoch - 2ms/step\n",
      "Epoch 95/100\n",
      "1875/1875 - 4s - loss: 0.0478 - accuracy: 0.9833 - 4s/epoch - 2ms/step\n",
      "Epoch 96/100\n",
      "1875/1875 - 4s - loss: 0.0518 - accuracy: 0.9816 - 4s/epoch - 2ms/step\n",
      "Epoch 97/100\n",
      "1875/1875 - 4s - loss: 0.0507 - accuracy: 0.9826 - 4s/epoch - 2ms/step\n",
      "Epoch 98/100\n",
      "1875/1875 - 4s - loss: 0.0473 - accuracy: 0.9835 - 4s/epoch - 2ms/step\n",
      "Epoch 99/100\n",
      "1875/1875 - 4s - loss: 0.0479 - accuracy: 0.9829 - 4s/epoch - 2ms/step\n",
      "Epoch 100/100\n",
      "1875/1875 - 4s - loss: 0.0482 - accuracy: 0.9827 - 4s/epoch - 2ms/step\n"
     ]
    },
    {
     "data": {
      "text/plain": [
       "<keras.callbacks.History at 0x10e54e0aeb8>"
      ]
     },
     "execution_count": 6,
     "metadata": {},
     "output_type": "execute_result"
    }
   ],
   "source": [
    "model = Sequential()\n",
    "model.add(Flatten())\n",
    "model.add(Dense(300, activation='relu'))\n",
    "model.add(Dense(100, activation='relu'))\n",
    "model.add(Dense(10, activation='softmax'))\n",
    "model.compile(loss='sparse_categorical_crossentropy', optimizer='adam',\n",
    "    metrics = ['accuracy'])\n",
    "#optimizer='adam', metrics=['accuracy'])keras.metrics.CategoricalCrossentropy()\n",
    "model.fit(train_input, train_label, epochs=100, verbose=2)"
   ]
  },
  {
   "attachments": {},
   "cell_type": "markdown",
   "metadata": {},
   "source": [
    "# Predicting"
   ]
  },
  {
   "cell_type": "code",
   "execution_count": 7,
   "metadata": {},
   "outputs": [
    {
     "name": "stdout",
     "output_type": "stream",
     "text": [
      "313/313 [==============================] - 1s 2ms/step\n"
     ]
    },
    {
     "data": {
      "text/plain": [
       "90.10000000000001"
      ]
     },
     "execution_count": 7,
     "metadata": {},
     "output_type": "execute_result"
    }
   ],
   "source": [
    "predicted = model.predict(test_input)\n",
    "\n",
    "correct = (np.argmax(predicted, axis=1) == test_label).sum()\n",
    "incorrect = (np.argmax(predicted, axis=1) != test_label).sum()\n",
    "\n",
    "correct_prc = correct / (correct+incorrect) * 100\n",
    "\n",
    "correct_prc"
   ]
  },
  {
   "cell_type": "code",
   "execution_count": null,
   "metadata": {},
   "outputs": [],
   "source": []
  }
 ],
 "metadata": {
  "kernelspec": {
   "display_name": "Python 3",
   "language": "python",
   "name": "python3"
  },
  "language_info": {
   "codemirror_mode": {
    "name": "ipython",
    "version": 3
   },
   "file_extension": ".py",
   "mimetype": "text/x-python",
   "name": "python",
   "nbconvert_exporter": "python",
   "pygments_lexer": "ipython3",
   "version": "3.7.1rc1"
  },
  "orig_nbformat": 4,
  "vscode": {
   "interpreter": {
    "hash": "4302f71f881f01a44fdbbc2ebd8675f271652b3a53c4968c7437bae2749ff913"
   }
  }
 },
 "nbformat": 4,
 "nbformat_minor": 2
}
