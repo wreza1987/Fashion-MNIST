{
 "cells": [
  {
   "attachments": {},
   "cell_type": "markdown",
   "metadata": {},
   "source": [
    "# Imports"
   ]
  },
  {
   "cell_type": "code",
   "execution_count": 1,
   "metadata": {},
   "outputs": [],
   "source": [
    "import pandas as pd\n",
    "import numpy as np\n",
    "\n",
    "from sklearn.model_selection import train_test_split\n",
    "from tensorflow import keras\n",
    "from tensorflow import keras\n",
    "from tensorflow.keras.models import Sequential\n",
    "from tensorflow.keras.layers import Dense, Flatten, Conv2D, MaxPool2D"
   ]
  },
  {
   "cell_type": "code",
   "execution_count": 2,
   "metadata": {},
   "outputs": [],
   "source": [
    "img_rows, img_cols = 28, 28\n",
    "num_classes = 10"
   ]
  },
  {
   "attachments": {},
   "cell_type": "markdown",
   "metadata": {},
   "source": [
    "# Load Data"
   ]
  },
  {
   "cell_type": "code",
   "execution_count": 3,
   "metadata": {},
   "outputs": [],
   "source": [
    "test_data = pd.read_csv(\"data/fashion-mnist_test.csv\")\n",
    "train_data = pd.read_csv(\"data/fashion-mnist_train.csv\")\n",
    "\n",
    "test_df = pd.DataFrame(test_data)\n",
    "train_df = pd.DataFrame(train_data)"
   ]
  },
  {
   "cell_type": "code",
   "execution_count": 4,
   "metadata": {},
   "outputs": [
    {
     "data": {
      "text/plain": [
       "((60000, 785), (10000, 785))"
      ]
     },
     "execution_count": 4,
     "metadata": {},
     "output_type": "execute_result"
    }
   ],
   "source": [
    "train_data.shape, test_data.shape"
   ]
  },
  {
   "attachments": {},
   "cell_type": "markdown",
   "metadata": {},
   "source": [
    "# Split Data"
   ]
  },
  {
   "cell_type": "code",
   "execution_count": 5,
   "metadata": {},
   "outputs": [
    {
     "data": {
      "text/plain": [
       "((60000, 28, 28, 1), (60000,), (10000, 28, 28, 1), (10000,))"
      ]
     },
     "execution_count": 5,
     "metadata": {},
     "output_type": "execute_result"
    }
   ],
   "source": [
    "train_input, train_label = np.array(train_data.iloc[:, 1:])/255, np.array(train_data.iloc[:, 0])\n",
    "test_input, test_label = np.array(test_data.iloc[:, 1:])/255, np.array(test_data.iloc[:, 0])\n",
    "\n",
    "train_input = train_input.reshape((-1, img_rows, img_cols, 1))\n",
    "test_input = test_input.reshape((-1, img_rows, img_cols, 1))\n",
    "\n",
    "train_input.shape, train_label.shape, test_input.shape, test_label.shape"
   ]
  },
  {
   "attachments": {},
   "cell_type": "markdown",
   "metadata": {},
   "source": [
    "# Build Model"
   ]
  },
  {
   "cell_type": "code",
   "execution_count": 6,
   "metadata": {},
   "outputs": [
    {
     "name": "stdout",
     "output_type": "stream",
     "text": [
      "Epoch 1/30\n",
      "1875/1875 [==============================] - 21s 10ms/step - loss: 0.4112 - accuracy: 0.8544\n",
      "Epoch 2/30\n",
      "1875/1875 [==============================] - 19s 10ms/step - loss: 0.2806 - accuracy: 0.8992\n",
      "Epoch 3/30\n",
      "1875/1875 [==============================] - 19s 10ms/step - loss: 0.2354 - accuracy: 0.9144\n",
      "Epoch 4/30\n",
      "1875/1875 [==============================] - 19s 10ms/step - loss: 0.2008 - accuracy: 0.9260\n",
      "Epoch 5/30\n",
      "1875/1875 [==============================] - 19s 10ms/step - loss: 0.1734 - accuracy: 0.9360\n",
      "Epoch 6/30\n",
      "1875/1875 [==============================] - 19s 10ms/step - loss: 0.1496 - accuracy: 0.9445\n",
      "Epoch 7/30\n",
      "1875/1875 [==============================] - 19s 10ms/step - loss: 0.1302 - accuracy: 0.9516\n",
      "Epoch 8/30\n",
      "1875/1875 [==============================] - 19s 10ms/step - loss: 0.1118 - accuracy: 0.9592\n",
      "Epoch 9/30\n",
      "1875/1875 [==============================] - 19s 10ms/step - loss: 0.0970 - accuracy: 0.9647\n",
      "Epoch 10/30\n",
      "1875/1875 [==============================] - 19s 10ms/step - loss: 0.0825 - accuracy: 0.9701\n",
      "Epoch 11/30\n",
      "1875/1875 [==============================] - 19s 10ms/step - loss: 0.0720 - accuracy: 0.9738\n",
      "Epoch 12/30\n",
      "1875/1875 [==============================] - 19s 10ms/step - loss: 0.0639 - accuracy: 0.9769\n",
      "Epoch 13/30\n",
      "1875/1875 [==============================] - 20s 10ms/step - loss: 0.0535 - accuracy: 0.9810\n",
      "Epoch 14/30\n",
      "1875/1875 [==============================] - 19s 10ms/step - loss: 0.0479 - accuracy: 0.9830\n",
      "Epoch 15/30\n",
      "1875/1875 [==============================] - 19s 10ms/step - loss: 0.0413 - accuracy: 0.9855\n",
      "Epoch 16/30\n",
      "1875/1875 [==============================] - 19s 10ms/step - loss: 0.0378 - accuracy: 0.9864\n",
      "Epoch 17/30\n",
      "1875/1875 [==============================] - 19s 10ms/step - loss: 0.0357 - accuracy: 0.9870\n",
      "Epoch 18/30\n",
      "1875/1875 [==============================] - 19s 10ms/step - loss: 0.0297 - accuracy: 0.9894\n",
      "Epoch 19/30\n",
      "1875/1875 [==============================] - 19s 10ms/step - loss: 0.0268 - accuracy: 0.9910\n",
      "Epoch 20/30\n",
      "1875/1875 [==============================] - 19s 10ms/step - loss: 0.0253 - accuracy: 0.9912\n",
      "Epoch 21/30\n",
      "1875/1875 [==============================] - 20s 10ms/step - loss: 0.0232 - accuracy: 0.9916\n",
      "Epoch 22/30\n",
      "1875/1875 [==============================] - 20s 10ms/step - loss: 0.0199 - accuracy: 0.9932\n",
      "Epoch 23/30\n",
      "1875/1875 [==============================] - 19s 10ms/step - loss: 0.0210 - accuracy: 0.9930\n",
      "Epoch 24/30\n",
      "1875/1875 [==============================] - 20s 10ms/step - loss: 0.0192 - accuracy: 0.9938\n",
      "Epoch 25/30\n",
      "1875/1875 [==============================] - 19s 10ms/step - loss: 0.0175 - accuracy: 0.9939\n",
      "Epoch 26/30\n",
      "1875/1875 [==============================] - 20s 10ms/step - loss: 0.0178 - accuracy: 0.9942\n",
      "Epoch 27/30\n",
      "1875/1875 [==============================] - 19s 10ms/step - loss: 0.0155 - accuracy: 0.9948\n",
      "Epoch 28/30\n",
      "1875/1875 [==============================] - 19s 10ms/step - loss: 0.0151 - accuracy: 0.9948\n",
      "Epoch 29/30\n",
      "1875/1875 [==============================] - 19s 10ms/step - loss: 0.0151 - accuracy: 0.9950\n",
      "Epoch 30/30\n",
      "1875/1875 [==============================] - 19s 10ms/step - loss: 0.0141 - accuracy: 0.9951\n"
     ]
    },
    {
     "data": {
      "text/plain": [
       "<keras.callbacks.History at 0x1921a47fef0>"
      ]
     },
     "execution_count": 6,
     "metadata": {},
     "output_type": "execute_result"
    }
   ],
   "source": [
    "model = Sequential()\n",
    "model.add(Conv2D(32, (3, 3), activation='relu', input_shape=(img_rows, img_cols, 1)))\n",
    "model.add(MaxPool2D(2,2))\n",
    "model.add(Flatten())\n",
    "model.add(Dense(100, activation='relu'))\n",
    "model.add(Dense(10, activation='softmax'))\n",
    "model.compile(loss='sparse_categorical_crossentropy', optimizer='adam', metrics=['accuracy'])\n",
    "model.fit(train_input, train_label, epochs=30)"
   ]
  },
  {
   "attachments": {},
   "cell_type": "markdown",
   "metadata": {},
   "source": [
    "# Predicting"
   ]
  },
  {
   "cell_type": "code",
   "execution_count": 7,
   "metadata": {},
   "outputs": [
    {
     "name": "stdout",
     "output_type": "stream",
     "text": [
      "313/313 [==============================] - 1s 3ms/step\n"
     ]
    }
   ],
   "source": [
    "test_predict = model.predict(test_input)"
   ]
  },
  {
   "attachments": {},
   "cell_type": "markdown",
   "metadata": {},
   "source": [
    "# Calculate Percentage of Predicting"
   ]
  },
  {
   "cell_type": "code",
   "execution_count": 8,
   "metadata": {},
   "outputs": [
    {
     "data": {
      "text/plain": [
       "91.74"
      ]
     },
     "execution_count": 8,
     "metadata": {},
     "output_type": "execute_result"
    }
   ],
   "source": [
    "correct = (np.argmax(test_predict, axis=1) == test_label).sum()\n",
    "incorrect = (np.argmax(test_predict, axis=1) != test_label).sum()\n",
    "\n",
    "correct_prc = correct / (correct+incorrect) * 100\n",
    "\n",
    "correct_prc"
   ]
  },
  {
   "cell_type": "code",
   "execution_count": 9,
   "metadata": {},
   "outputs": [
    {
     "name": "stderr",
     "output_type": "stream",
     "text": [
      "WARNING:absl:Found untraced functions such as _jit_compiled_convolution_op while saving (showing 1 of 1). These functions will not be directly callable after loading.\n"
     ]
    },
    {
     "name": "stdout",
     "output_type": "stream",
     "text": [
      "INFO:tensorflow:Assets written to: model\\assets\n"
     ]
    },
    {
     "name": "stderr",
     "output_type": "stream",
     "text": [
      "INFO:tensorflow:Assets written to: model\\assets\n"
     ]
    }
   ],
   "source": [
    "model.save(\"model\")"
   ]
  },
  {
   "cell_type": "code",
   "execution_count": null,
   "metadata": {},
   "outputs": [],
   "source": []
  }
 ],
 "metadata": {
  "kernelspec": {
   "display_name": "Python 3",
   "language": "python",
   "name": "python3"
  },
  "language_info": {
   "codemirror_mode": {
    "name": "ipython",
    "version": 3
   },
   "file_extension": ".py",
   "mimetype": "text/x-python",
   "name": "python",
   "nbconvert_exporter": "python",
   "pygments_lexer": "ipython3",
   "version": "3.7.1rc1"
  },
  "orig_nbformat": 4,
  "vscode": {
   "interpreter": {
    "hash": "4302f71f881f01a44fdbbc2ebd8675f271652b3a53c4968c7437bae2749ff913"
   }
  }
 },
 "nbformat": 4,
 "nbformat_minor": 2
}
