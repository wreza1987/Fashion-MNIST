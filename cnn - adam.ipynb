{
 "cells": [
  {
   "attachments": {},
   "cell_type": "markdown",
   "metadata": {},
   "source": [
    "# Imports"
   ]
  },
  {
   "cell_type": "code",
   "execution_count": 1,
   "metadata": {},
   "outputs": [],
   "source": [
    "import pandas as pd\n",
    "import numpy as np\n",
    "\n",
    "from tensorflow import keras\n",
    "from tensorflow.keras.models import Sequential\n",
    "from tensorflow.keras.layers import Dense, Flatten, Conv2D, MaxPool2D"
   ]
  },
  {
   "cell_type": "code",
   "execution_count": 2,
   "metadata": {},
   "outputs": [],
   "source": [
    "img_rows, img_cols = 28, 28\n",
    "num_classes = 10"
   ]
  },
  {
   "attachments": {},
   "cell_type": "markdown",
   "metadata": {},
   "source": [
    "# Load Data"
   ]
  },
  {
   "cell_type": "code",
   "execution_count": 3,
   "metadata": {},
   "outputs": [],
   "source": [
    "test_data = pd.read_csv(\"data/fashion-mnist_test.csv\")\n",
    "train_data = pd.read_csv(\"data/fashion-mnist_train.csv\")\n",
    "\n",
    "test_df = pd.DataFrame(test_data)\n",
    "train_df = pd.DataFrame(train_data)"
   ]
  },
  {
   "cell_type": "code",
   "execution_count": 4,
   "metadata": {},
   "outputs": [
    {
     "data": {
      "text/plain": [
       "((60000, 785), (10000, 785))"
      ]
     },
     "execution_count": 4,
     "metadata": {},
     "output_type": "execute_result"
    }
   ],
   "source": [
    "train_data.shape, test_data.shape"
   ]
  },
  {
   "attachments": {},
   "cell_type": "markdown",
   "metadata": {},
   "source": [
    "# Split Data"
   ]
  },
  {
   "cell_type": "code",
   "execution_count": 5,
   "metadata": {},
   "outputs": [
    {
     "data": {
      "text/plain": [
       "((60000, 28, 28, 1), (60000,), (10000, 28, 28, 1), (10000,))"
      ]
     },
     "execution_count": 5,
     "metadata": {},
     "output_type": "execute_result"
    }
   ],
   "source": [
    "train_input, train_label = np.array(train_data.iloc[:, 1:])/255, np.array(train_data.iloc[:, 0])\n",
    "test_input, test_label = np.array(test_data.iloc[:, 1:])/255, np.array(test_data.iloc[:, 0])\n",
    "\n",
    "train_input = train_input.reshape((-1, img_rows, img_cols, 1))\n",
    "test_input = test_input.reshape((-1, img_rows, img_cols, 1))\n",
    "\n",
    "train_input.shape, train_label.shape, test_input.shape, test_label.shape"
   ]
  },
  {
   "attachments": {},
   "cell_type": "markdown",
   "metadata": {},
   "source": [
    "# Build Model"
   ]
  },
  {
   "cell_type": "code",
   "execution_count": 6,
   "metadata": {},
   "outputs": [
    {
     "name": "stdout",
     "output_type": "stream",
     "text": [
      "Epoch 1/100\n",
      "1875/1875 [==============================] - 27s 14ms/step - loss: 0.4083 - accuracy: 0.8571\n",
      "Epoch 2/100\n",
      "1875/1875 [==============================] - 28s 15ms/step - loss: 0.2786 - accuracy: 0.9005\n",
      "Epoch 3/100\n",
      "1875/1875 [==============================] - 27s 14ms/step - loss: 0.2384 - accuracy: 0.9130\n",
      "Epoch 4/100\n",
      "1875/1875 [==============================] - 26s 14ms/step - loss: 0.2095 - accuracy: 0.9237\n",
      "Epoch 5/100\n",
      "1875/1875 [==============================] - 26s 14ms/step - loss: 0.1837 - accuracy: 0.9339\n",
      "Epoch 6/100\n",
      "1875/1875 [==============================] - 25s 13ms/step - loss: 0.1636 - accuracy: 0.9401\n",
      "Epoch 7/100\n",
      "1875/1875 [==============================] - 25s 13ms/step - loss: 0.1447 - accuracy: 0.9472\n",
      "Epoch 8/100\n",
      "1875/1875 [==============================] - 26s 14ms/step - loss: 0.1284 - accuracy: 0.9533\n",
      "Epoch 9/100\n",
      "1875/1875 [==============================] - 26s 14ms/step - loss: 0.1128 - accuracy: 0.9586\n",
      "Epoch 10/100\n",
      "1875/1875 [==============================] - 26s 14ms/step - loss: 0.1000 - accuracy: 0.9637\n",
      "Epoch 11/100\n",
      "1875/1875 [==============================] - 25s 14ms/step - loss: 0.0891 - accuracy: 0.9676\n",
      "Epoch 12/100\n",
      "1875/1875 [==============================] - 25s 14ms/step - loss: 0.0775 - accuracy: 0.9722\n",
      "Epoch 13/100\n",
      "1875/1875 [==============================] - 26s 14ms/step - loss: 0.0688 - accuracy: 0.9753\n",
      "Epoch 14/100\n",
      "1875/1875 [==============================] - 25s 13ms/step - loss: 0.0616 - accuracy: 0.9781\n",
      "Epoch 15/100\n",
      "1875/1875 [==============================] - 25s 13ms/step - loss: 0.0583 - accuracy: 0.9794\n",
      "Epoch 16/100\n",
      "1875/1875 [==============================] - 25s 13ms/step - loss: 0.0492 - accuracy: 0.9827\n",
      "Epoch 17/100\n",
      "1875/1875 [==============================] - 25s 13ms/step - loss: 0.0432 - accuracy: 0.9846\n",
      "Epoch 18/100\n",
      "1875/1875 [==============================] - 25s 13ms/step - loss: 0.0416 - accuracy: 0.9856\n",
      "Epoch 19/100\n",
      "1875/1875 [==============================] - 25s 13ms/step - loss: 0.0360 - accuracy: 0.9875\n",
      "Epoch 20/100\n",
      "1875/1875 [==============================] - 25s 14ms/step - loss: 0.0367 - accuracy: 0.9872\n",
      "Epoch 21/100\n",
      "1875/1875 [==============================] - 26s 14ms/step - loss: 0.0309 - accuracy: 0.9895\n",
      "Epoch 22/100\n",
      "1875/1875 [==============================] - 26s 14ms/step - loss: 0.0271 - accuracy: 0.9905\n",
      "Epoch 23/100\n",
      "1875/1875 [==============================] - 25s 13ms/step - loss: 0.0254 - accuracy: 0.9910\n",
      "Epoch 24/100\n",
      "1875/1875 [==============================] - 25s 13ms/step - loss: 0.0273 - accuracy: 0.9905\n",
      "Epoch 25/100\n",
      "1875/1875 [==============================] - 25s 13ms/step - loss: 0.0223 - accuracy: 0.9921\n",
      "Epoch 26/100\n",
      "1875/1875 [==============================] - 25s 13ms/step - loss: 0.0235 - accuracy: 0.9916\n",
      "Epoch 27/100\n",
      "1875/1875 [==============================] - 25s 14ms/step - loss: 0.0194 - accuracy: 0.9937\n",
      "Epoch 28/100\n",
      "1875/1875 [==============================] - 27s 14ms/step - loss: 0.0202 - accuracy: 0.9933\n",
      "Epoch 29/100\n",
      "1875/1875 [==============================] - 26s 14ms/step - loss: 0.0189 - accuracy: 0.9940\n",
      "Epoch 30/100\n",
      "1875/1875 [==============================] - 25s 13ms/step - loss: 0.0199 - accuracy: 0.9932\n",
      "Epoch 31/100\n",
      "1875/1875 [==============================] - 26s 14ms/step - loss: 0.0144 - accuracy: 0.9951\n",
      "Epoch 32/100\n",
      "1875/1875 [==============================] - 25s 13ms/step - loss: 0.0190 - accuracy: 0.9939\n",
      "Epoch 33/100\n",
      "1875/1875 [==============================] - 25s 13ms/step - loss: 0.0186 - accuracy: 0.9937\n",
      "Epoch 34/100\n",
      "1875/1875 [==============================] - 26s 14ms/step - loss: 0.0152 - accuracy: 0.9948\n",
      "Epoch 35/100\n",
      "1875/1875 [==============================] - 25s 14ms/step - loss: 0.0153 - accuracy: 0.9947\n",
      "Epoch 36/100\n",
      "1875/1875 [==============================] - 25s 13ms/step - loss: 0.0152 - accuracy: 0.9949\n",
      "Epoch 37/100\n",
      "1875/1875 [==============================] - 25s 13ms/step - loss: 0.0145 - accuracy: 0.9950\n",
      "Epoch 38/100\n",
      "1875/1875 [==============================] - 25s 13ms/step - loss: 0.0148 - accuracy: 0.9951\n",
      "Epoch 39/100\n",
      "1875/1875 [==============================] - 26s 14ms/step - loss: 0.0159 - accuracy: 0.9948\n",
      "Epoch 40/100\n",
      "1875/1875 [==============================] - 25s 14ms/step - loss: 0.0112 - accuracy: 0.9964\n",
      "Epoch 41/100\n",
      "1875/1875 [==============================] - 25s 14ms/step - loss: 0.0120 - accuracy: 0.9961\n",
      "Epoch 42/100\n",
      "1875/1875 [==============================] - 25s 14ms/step - loss: 0.0139 - accuracy: 0.9955\n",
      "Epoch 43/100\n",
      "1875/1875 [==============================] - 26s 14ms/step - loss: 0.0140 - accuracy: 0.9952\n",
      "Epoch 44/100\n",
      "1875/1875 [==============================] - 27s 14ms/step - loss: 0.0108 - accuracy: 0.9965\n",
      "Epoch 45/100\n",
      "1875/1875 [==============================] - 27s 14ms/step - loss: 0.0128 - accuracy: 0.9955\n",
      "Epoch 46/100\n",
      "1875/1875 [==============================] - 25s 14ms/step - loss: 0.0130 - accuracy: 0.9960\n",
      "Epoch 47/100\n",
      "1875/1875 [==============================] - 26s 14ms/step - loss: 0.0116 - accuracy: 0.9962\n",
      "Epoch 48/100\n",
      "1875/1875 [==============================] - 27s 14ms/step - loss: 0.0108 - accuracy: 0.9965\n",
      "Epoch 49/100\n",
      "1875/1875 [==============================] - 27s 14ms/step - loss: 0.0102 - accuracy: 0.9966\n",
      "Epoch 50/100\n",
      "1875/1875 [==============================] - 26s 14ms/step - loss: 0.0126 - accuracy: 0.9960\n",
      "Epoch 51/100\n",
      "1875/1875 [==============================] - 26s 14ms/step - loss: 0.0129 - accuracy: 0.9959\n",
      "Epoch 52/100\n",
      "1875/1875 [==============================] - 25s 13ms/step - loss: 0.0092 - accuracy: 0.9969\n",
      "Epoch 53/100\n",
      "1875/1875 [==============================] - 26s 14ms/step - loss: 0.0076 - accuracy: 0.9973\n",
      "Epoch 54/100\n",
      "1875/1875 [==============================] - 26s 14ms/step - loss: 0.0119 - accuracy: 0.9960\n",
      "Epoch 55/100\n",
      "1875/1875 [==============================] - 26s 14ms/step - loss: 0.0092 - accuracy: 0.9966\n",
      "Epoch 56/100\n",
      "1875/1875 [==============================] - 26s 14ms/step - loss: 0.0099 - accuracy: 0.9967\n",
      "Epoch 57/100\n",
      "1875/1875 [==============================] - 26s 14ms/step - loss: 0.0107 - accuracy: 0.9963\n",
      "Epoch 58/100\n",
      "1875/1875 [==============================] - 26s 14ms/step - loss: 0.0063 - accuracy: 0.9981\n",
      "Epoch 59/100\n",
      "1875/1875 [==============================] - 26s 14ms/step - loss: 0.0145 - accuracy: 0.9955\n",
      "Epoch 60/100\n",
      "1875/1875 [==============================] - 25s 13ms/step - loss: 0.0086 - accuracy: 0.9973\n",
      "Epoch 61/100\n",
      "1875/1875 [==============================] - 26s 14ms/step - loss: 0.0101 - accuracy: 0.9970\n",
      "Epoch 62/100\n",
      "1875/1875 [==============================] - 26s 14ms/step - loss: 0.0083 - accuracy: 0.9971\n",
      "Epoch 63/100\n",
      "1875/1875 [==============================] - 25s 14ms/step - loss: 0.0074 - accuracy: 0.9974\n",
      "Epoch 64/100\n",
      "1875/1875 [==============================] - 26s 14ms/step - loss: 0.0076 - accuracy: 0.9973\n",
      "Epoch 65/100\n",
      "1875/1875 [==============================] - 27s 14ms/step - loss: 0.0101 - accuracy: 0.9968\n",
      "Epoch 66/100\n",
      "1875/1875 [==============================] - 27s 14ms/step - loss: 0.0077 - accuracy: 0.9975\n",
      "Epoch 67/100\n",
      "1875/1875 [==============================] - 26s 14ms/step - loss: 0.0121 - accuracy: 0.9963\n",
      "Epoch 68/100\n",
      "1875/1875 [==============================] - 26s 14ms/step - loss: 0.0079 - accuracy: 0.9976\n",
      "Epoch 69/100\n",
      "1875/1875 [==============================] - 26s 14ms/step - loss: 0.0091 - accuracy: 0.9973\n",
      "Epoch 70/100\n",
      "1875/1875 [==============================] - 26s 14ms/step - loss: 0.0088 - accuracy: 0.9974\n",
      "Epoch 71/100\n",
      "1875/1875 [==============================] - 27s 14ms/step - loss: 0.0060 - accuracy: 0.9981\n",
      "Epoch 72/100\n",
      "1875/1875 [==============================] - 26s 14ms/step - loss: 0.0065 - accuracy: 0.9980\n",
      "Epoch 73/100\n",
      "1875/1875 [==============================] - 27s 14ms/step - loss: 0.0090 - accuracy: 0.9972\n",
      "Epoch 74/100\n",
      "1875/1875 [==============================] - 26s 14ms/step - loss: 0.0106 - accuracy: 0.9969\n",
      "Epoch 75/100\n",
      "1875/1875 [==============================] - 26s 14ms/step - loss: 0.0078 - accuracy: 0.9975\n",
      "Epoch 76/100\n",
      "1875/1875 [==============================] - 26s 14ms/step - loss: 0.0062 - accuracy: 0.9982\n",
      "Epoch 77/100\n",
      "1875/1875 [==============================] - 26s 14ms/step - loss: 0.0093 - accuracy: 0.9973\n",
      "Epoch 78/100\n",
      "1875/1875 [==============================] - 25s 14ms/step - loss: 0.0089 - accuracy: 0.9973\n",
      "Epoch 79/100\n",
      "1875/1875 [==============================] - 25s 14ms/step - loss: 0.0074 - accuracy: 0.9978\n",
      "Epoch 80/100\n",
      "1875/1875 [==============================] - 25s 14ms/step - loss: 0.0087 - accuracy: 0.9974\n",
      "Epoch 81/100\n",
      "1875/1875 [==============================] - 26s 14ms/step - loss: 0.0081 - accuracy: 0.9977\n",
      "Epoch 82/100\n",
      "1875/1875 [==============================] - 28s 15ms/step - loss: 0.0046 - accuracy: 0.9983\n",
      "Epoch 83/100\n",
      "1875/1875 [==============================] - 29s 15ms/step - loss: 0.0076 - accuracy: 0.9979\n",
      "Epoch 84/100\n",
      "1875/1875 [==============================] - 27s 15ms/step - loss: 0.0074 - accuracy: 0.9976\n",
      "Epoch 85/100\n",
      "1875/1875 [==============================] - 27s 14ms/step - loss: 0.0062 - accuracy: 0.9980\n",
      "Epoch 86/100\n",
      "1875/1875 [==============================] - 26s 14ms/step - loss: 0.0073 - accuracy: 0.9973\n",
      "Epoch 87/100\n",
      "1875/1875 [==============================] - 27s 14ms/step - loss: 0.0051 - accuracy: 0.9984\n",
      "Epoch 88/100\n",
      "1875/1875 [==============================] - 27s 14ms/step - loss: 0.0080 - accuracy: 0.9974\n",
      "Epoch 89/100\n",
      "1875/1875 [==============================] - 28s 15ms/step - loss: 0.0046 - accuracy: 0.9985\n",
      "Epoch 90/100\n",
      "1875/1875 [==============================] - 27s 14ms/step - loss: 0.0090 - accuracy: 0.9973\n",
      "Epoch 91/100\n",
      "1875/1875 [==============================] - 28s 15ms/step - loss: 0.0068 - accuracy: 0.9978\n",
      "Epoch 92/100\n",
      "1875/1875 [==============================] - 29s 15ms/step - loss: 0.0067 - accuracy: 0.9977\n",
      "Epoch 93/100\n",
      "1875/1875 [==============================] - 28s 15ms/step - loss: 0.0067 - accuracy: 0.9979\n",
      "Epoch 94/100\n",
      "1875/1875 [==============================] - 27s 15ms/step - loss: 0.0063 - accuracy: 0.9981\n",
      "Epoch 95/100\n",
      "1875/1875 [==============================] - 28s 15ms/step - loss: 0.0062 - accuracy: 0.9980\n",
      "Epoch 96/100\n",
      "1875/1875 [==============================] - 28s 15ms/step - loss: 0.0080 - accuracy: 0.9974\n",
      "Epoch 97/100\n",
      "1875/1875 [==============================] - 27s 14ms/step - loss: 0.0057 - accuracy: 0.9985\n",
      "Epoch 98/100\n",
      "1875/1875 [==============================] - 26s 14ms/step - loss: 0.0094 - accuracy: 0.9972\n",
      "Epoch 99/100\n",
      "1875/1875 [==============================] - 26s 14ms/step - loss: 0.0052 - accuracy: 0.9986\n",
      "Epoch 100/100\n",
      "1875/1875 [==============================] - 26s 14ms/step - loss: 0.0084 - accuracy: 0.9979\n"
     ]
    },
    {
     "data": {
      "text/plain": [
       "<keras.callbacks.History at 0x244bc5ad3c8>"
      ]
     },
     "execution_count": 6,
     "metadata": {},
     "output_type": "execute_result"
    }
   ],
   "source": [
    "model = Sequential()\n",
    "model.add(Conv2D(64, (3, 3), activation='relu', input_shape=(img_rows, img_cols, 1)))\n",
    "model.add(MaxPool2D(2,2))\n",
    "model.add(Flatten())\n",
    "model.add(Dense(50, activation='relu'))\n",
    "model.add(Dense(10, activation='softmax'))\n",
    "model.compile(loss='sparse_categorical_crossentropy', optimizer='adam', metrics=['accuracy'])\n",
    "model.fit(train_input, train_label, epochs=100)"
   ]
  },
  {
   "attachments": {},
   "cell_type": "markdown",
   "metadata": {},
   "source": [
    "# Predicting"
   ]
  },
  {
   "cell_type": "code",
   "execution_count": 7,
   "metadata": {},
   "outputs": [
    {
     "name": "stdout",
     "output_type": "stream",
     "text": [
      "313/313 [==============================] - 2s 5ms/step\n"
     ]
    }
   ],
   "source": [
    "test_predict = model.predict(test_input)"
   ]
  },
  {
   "attachments": {},
   "cell_type": "markdown",
   "metadata": {},
   "source": [
    "# Calculate Percentage of Predicting"
   ]
  },
  {
   "cell_type": "code",
   "execution_count": 8,
   "metadata": {},
   "outputs": [
    {
     "data": {
      "text/plain": [
       "91.18"
      ]
     },
     "execution_count": 8,
     "metadata": {},
     "output_type": "execute_result"
    }
   ],
   "source": [
    "correct = (np.argmax(test_predict, axis=1) == test_label).sum()\n",
    "incorrect = (np.argmax(test_predict, axis=1) != test_label).sum()\n",
    "\n",
    "correct_prc = correct / (correct+incorrect) * 100\n",
    "\n",
    "correct_prc"
   ]
  },
  {
   "cell_type": "code",
   "execution_count": 9,
   "metadata": {},
   "outputs": [
    {
     "name": "stderr",
     "output_type": "stream",
     "text": [
      "WARNING:absl:Found untraced functions such as _jit_compiled_convolution_op while saving (showing 1 of 1). These functions will not be directly callable after loading.\n"
     ]
    },
    {
     "name": "stdout",
     "output_type": "stream",
     "text": [
      "INFO:tensorflow:Assets written to: model\\assets\n"
     ]
    },
    {
     "name": "stderr",
     "output_type": "stream",
     "text": [
      "INFO:tensorflow:Assets written to: model\\assets\n"
     ]
    }
   ],
   "source": [
    "model.save(\"model\")"
   ]
  },
  {
   "cell_type": "code",
   "execution_count": null,
   "metadata": {},
   "outputs": [],
   "source": []
  }
 ],
 "metadata": {
  "kernelspec": {
   "display_name": "Python 3",
   "language": "python",
   "name": "python3"
  },
  "language_info": {
   "codemirror_mode": {
    "name": "ipython",
    "version": 3
   },
   "file_extension": ".py",
   "mimetype": "text/x-python",
   "name": "python",
   "nbconvert_exporter": "python",
   "pygments_lexer": "ipython3",
   "version": "3.7.1rc1"
  },
  "orig_nbformat": 4,
  "vscode": {
   "interpreter": {
    "hash": "4302f71f881f01a44fdbbc2ebd8675f271652b3a53c4968c7437bae2749ff913"
   }
  }
 },
 "nbformat": 4,
 "nbformat_minor": 2
}
