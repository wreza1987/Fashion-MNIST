{
 "cells": [
  {
   "attachments": {},
   "cell_type": "markdown",
   "metadata": {},
   "source": [
    "# Imports (sklearn)"
   ]
  },
  {
   "cell_type": "code",
   "execution_count": 1,
   "metadata": {},
   "outputs": [],
   "source": [
    "import pandas as pd\n",
    "import numpy as np\n",
    "\n",
    "from sklearn.neural_network import MLPClassifier"
   ]
  },
  {
   "cell_type": "code",
   "execution_count": 2,
   "metadata": {},
   "outputs": [],
   "source": [
    "img_rows, img_cols = 28, 28\n",
    "num_classes = 10"
   ]
  },
  {
   "attachments": {},
   "cell_type": "markdown",
   "metadata": {},
   "source": [
    "# Load Data"
   ]
  },
  {
   "cell_type": "code",
   "execution_count": 3,
   "metadata": {},
   "outputs": [],
   "source": [
    "test_data = pd.read_csv(\"data/fashion-mnist_test.csv\")\n",
    "train_data = pd.read_csv(\"data/fashion-mnist_train.csv\")\n",
    "\n",
    "test_df = pd.DataFrame(test_data)\n",
    "train_df = pd.DataFrame(train_data)"
   ]
  },
  {
   "cell_type": "code",
   "execution_count": 4,
   "metadata": {},
   "outputs": [
    {
     "data": {
      "text/plain": [
       "((60000, 785), (10000, 785))"
      ]
     },
     "execution_count": 4,
     "metadata": {},
     "output_type": "execute_result"
    }
   ],
   "source": [
    "train_data.shape, test_data.shape"
   ]
  },
  {
   "attachments": {},
   "cell_type": "markdown",
   "metadata": {},
   "source": [
    "# Split Data"
   ]
  },
  {
   "cell_type": "code",
   "execution_count": 5,
   "metadata": {},
   "outputs": [
    {
     "data": {
      "text/plain": [
       "((60000, 784), (60000,), (10000, 784), (10000,))"
      ]
     },
     "execution_count": 5,
     "metadata": {},
     "output_type": "execute_result"
    }
   ],
   "source": [
    "train_input, train_label = np.array(train_data.iloc[:, 1:])/255, np.array(train_data.iloc[:, 0])\n",
    "test_input, test_label = np.array(test_data.iloc[:, 1:])/255, np.array(test_data.iloc[:, 0])\n",
    "\n",
    "train_input.shape, train_label.shape, test_input.shape, test_label.shape"
   ]
  },
  {
   "attachments": {},
   "cell_type": "markdown",
   "metadata": {},
   "source": [
    "# Build Model"
   ]
  },
  {
   "cell_type": "code",
   "execution_count": 6,
   "metadata": {},
   "outputs": [
    {
     "data": {
      "text/plain": [
       "MLPClassifier(alpha=0.1, hidden_layer_sizes=30, random_state=1)"
      ]
     },
     "execution_count": 6,
     "metadata": {},
     "output_type": "execute_result"
    }
   ],
   "source": [
    "clf = MLPClassifier(solver='adam', alpha=.1, hidden_layer_sizes=30, random_state=1)\n",
    "\n",
    "clf.fit(train_input, train_label)"
   ]
  },
  {
   "attachments": {},
   "cell_type": "markdown",
   "metadata": {},
   "source": [
    "# Predicting"
   ]
  },
  {
   "cell_type": "code",
   "execution_count": 7,
   "metadata": {},
   "outputs": [],
   "source": [
    "test_predict = clf.predict(test_input)"
   ]
  },
  {
   "attachments": {},
   "cell_type": "markdown",
   "metadata": {},
   "source": [
    "# Calculate Percentage of Predicting"
   ]
  },
  {
   "cell_type": "code",
   "execution_count": 8,
   "metadata": {},
   "outputs": [
    {
     "data": {
      "text/plain": [
       "87.56"
      ]
     },
     "execution_count": 8,
     "metadata": {},
     "output_type": "execute_result"
    }
   ],
   "source": [
    "correct = (test_predict == test_label).sum()\n",
    "incorrect = (test_predict != test_label).sum()\n",
    "\n",
    "correct_prc = correct / (correct+incorrect) * 100\n",
    "\n",
    "correct_prc"
   ]
  },
  {
   "attachments": {},
   "cell_type": "markdown",
   "metadata": {},
   "source": [
    "# Imports (keras)"
   ]
  },
  {
   "cell_type": "code",
   "execution_count": 9,
   "metadata": {},
   "outputs": [],
   "source": [
    "from tensorflow import keras\n",
    "from tensorflow.keras.models import Sequential\n",
    "from tensorflow.keras.layers import Dense, Flatten, Conv2D, MaxPool2D"
   ]
  },
  {
   "attachments": {},
   "cell_type": "markdown",
   "metadata": {},
   "source": [
    "# Build Model"
   ]
  },
  {
   "cell_type": "code",
   "execution_count": 10,
   "metadata": {},
   "outputs": [
    {
     "name": "stdout",
     "output_type": "stream",
     "text": [
      "Epoch 1/100\n",
      "1875/1875 - 5s - loss: 0.5058 - accuracy: 0.8235 - 5s/epoch - 3ms/step\n",
      "Epoch 2/100\n",
      "1875/1875 - 4s - loss: 0.3836 - accuracy: 0.8642 - 4s/epoch - 2ms/step\n",
      "Epoch 3/100\n",
      "1875/1875 - 4s - loss: 0.3457 - accuracy: 0.8754 - 4s/epoch - 2ms/step\n",
      "Epoch 4/100\n",
      "1875/1875 - 4s - loss: 0.3208 - accuracy: 0.8826 - 4s/epoch - 2ms/step\n",
      "Epoch 5/100\n",
      "1875/1875 - 4s - loss: 0.3006 - accuracy: 0.8902 - 4s/epoch - 2ms/step\n",
      "Epoch 6/100\n",
      "1875/1875 - 4s - loss: 0.2865 - accuracy: 0.8957 - 4s/epoch - 2ms/step\n",
      "Epoch 7/100\n",
      "1875/1875 - 4s - loss: 0.2725 - accuracy: 0.9007 - 4s/epoch - 2ms/step\n",
      "Epoch 8/100\n",
      "1875/1875 - 4s - loss: 0.2610 - accuracy: 0.9043 - 4s/epoch - 2ms/step\n",
      "Epoch 9/100\n",
      "1875/1875 - 4s - loss: 0.2485 - accuracy: 0.9095 - 4s/epoch - 2ms/step\n",
      "Epoch 10/100\n",
      "1875/1875 - 4s - loss: 0.2398 - accuracy: 0.9124 - 4s/epoch - 2ms/step\n",
      "Epoch 11/100\n",
      "1875/1875 - 4s - loss: 0.2302 - accuracy: 0.9148 - 4s/epoch - 2ms/step\n",
      "Epoch 12/100\n",
      "1875/1875 - 4s - loss: 0.2222 - accuracy: 0.9176 - 4s/epoch - 2ms/step\n",
      "Epoch 13/100\n",
      "1875/1875 - 4s - loss: 0.2145 - accuracy: 0.9215 - 4s/epoch - 2ms/step\n",
      "Epoch 14/100\n",
      "1875/1875 - 4s - loss: 0.2063 - accuracy: 0.9236 - 4s/epoch - 2ms/step\n",
      "Epoch 15/100\n",
      "1875/1875 - 4s - loss: 0.1992 - accuracy: 0.9255 - 4s/epoch - 2ms/step\n",
      "Epoch 16/100\n",
      "1875/1875 - 4s - loss: 0.1937 - accuracy: 0.9290 - 4s/epoch - 2ms/step\n",
      "Epoch 17/100\n",
      "1875/1875 - 4s - loss: 0.1863 - accuracy: 0.9311 - 4s/epoch - 2ms/step\n",
      "Epoch 18/100\n",
      "1875/1875 - 4s - loss: 0.1808 - accuracy: 0.9335 - 4s/epoch - 2ms/step\n",
      "Epoch 19/100\n",
      "1875/1875 - 4s - loss: 0.1743 - accuracy: 0.9352 - 4s/epoch - 2ms/step\n",
      "Epoch 20/100\n",
      "1875/1875 - 4s - loss: 0.1686 - accuracy: 0.9373 - 4s/epoch - 2ms/step\n",
      "Epoch 21/100\n",
      "1875/1875 - 4s - loss: 0.1617 - accuracy: 0.9400 - 4s/epoch - 2ms/step\n",
      "Epoch 22/100\n",
      "1875/1875 - 4s - loss: 0.1578 - accuracy: 0.9421 - 4s/epoch - 2ms/step\n",
      "Epoch 23/100\n",
      "1875/1875 - 4s - loss: 0.1530 - accuracy: 0.9433 - 4s/epoch - 2ms/step\n",
      "Epoch 24/100\n",
      "1875/1875 - 4s - loss: 0.1478 - accuracy: 0.9459 - 4s/epoch - 2ms/step\n",
      "Epoch 25/100\n",
      "1875/1875 - 4s - loss: 0.1430 - accuracy: 0.9468 - 4s/epoch - 2ms/step\n",
      "Epoch 26/100\n",
      "1875/1875 - 4s - loss: 0.1374 - accuracy: 0.9493 - 4s/epoch - 2ms/step\n",
      "Epoch 27/100\n",
      "1875/1875 - 4s - loss: 0.1314 - accuracy: 0.9516 - 4s/epoch - 2ms/step\n",
      "Epoch 28/100\n",
      "1875/1875 - 4s - loss: 0.1279 - accuracy: 0.9530 - 4s/epoch - 2ms/step\n",
      "Epoch 29/100\n",
      "1875/1875 - 4s - loss: 0.1247 - accuracy: 0.9544 - 4s/epoch - 2ms/step\n",
      "Epoch 30/100\n",
      "1875/1875 - 4s - loss: 0.1195 - accuracy: 0.9560 - 4s/epoch - 2ms/step\n",
      "Epoch 31/100\n",
      "1875/1875 - 4s - loss: 0.1171 - accuracy: 0.9569 - 4s/epoch - 2ms/step\n",
      "Epoch 32/100\n",
      "1875/1875 - 4s - loss: 0.1112 - accuracy: 0.9596 - 4s/epoch - 2ms/step\n",
      "Epoch 33/100\n",
      "1875/1875 - 4s - loss: 0.1086 - accuracy: 0.9608 - 4s/epoch - 2ms/step\n",
      "Epoch 34/100\n",
      "1875/1875 - 4s - loss: 0.1041 - accuracy: 0.9625 - 4s/epoch - 2ms/step\n",
      "Epoch 35/100\n",
      "1875/1875 - 4s - loss: 0.1021 - accuracy: 0.9620 - 4s/epoch - 2ms/step\n",
      "Epoch 36/100\n",
      "1875/1875 - 4s - loss: 0.0983 - accuracy: 0.9639 - 4s/epoch - 2ms/step\n",
      "Epoch 37/100\n",
      "1875/1875 - 4s - loss: 0.0948 - accuracy: 0.9651 - 4s/epoch - 2ms/step\n",
      "Epoch 38/100\n",
      "1875/1875 - 4s - loss: 0.0918 - accuracy: 0.9667 - 4s/epoch - 2ms/step\n",
      "Epoch 39/100\n",
      "1875/1875 - 4s - loss: 0.0887 - accuracy: 0.9681 - 4s/epoch - 2ms/step\n",
      "Epoch 40/100\n",
      "1875/1875 - 4s - loss: 0.0856 - accuracy: 0.9691 - 4s/epoch - 2ms/step\n",
      "Epoch 41/100\n",
      "1875/1875 - 4s - loss: 0.0841 - accuracy: 0.9687 - 4s/epoch - 2ms/step\n",
      "Epoch 42/100\n",
      "1875/1875 - 4s - loss: 0.0810 - accuracy: 0.9712 - 4s/epoch - 2ms/step\n",
      "Epoch 43/100\n",
      "1875/1875 - 4s - loss: 0.0778 - accuracy: 0.9713 - 4s/epoch - 2ms/step\n",
      "Epoch 44/100\n",
      "1875/1875 - 4s - loss: 0.0737 - accuracy: 0.9743 - 4s/epoch - 2ms/step\n",
      "Epoch 45/100\n",
      "1875/1875 - 4s - loss: 0.0721 - accuracy: 0.9746 - 4s/epoch - 2ms/step\n",
      "Epoch 46/100\n",
      "1875/1875 - 4s - loss: 0.0719 - accuracy: 0.9735 - 4s/epoch - 2ms/step\n",
      "Epoch 47/100\n",
      "1875/1875 - 4s - loss: 0.0669 - accuracy: 0.9766 - 4s/epoch - 2ms/step\n",
      "Epoch 48/100\n",
      "1875/1875 - 4s - loss: 0.0654 - accuracy: 0.9766 - 4s/epoch - 2ms/step\n",
      "Epoch 49/100\n",
      "1875/1875 - 4s - loss: 0.0635 - accuracy: 0.9771 - 4s/epoch - 2ms/step\n",
      "Epoch 50/100\n",
      "1875/1875 - 4s - loss: 0.0610 - accuracy: 0.9790 - 4s/epoch - 2ms/step\n",
      "Epoch 51/100\n",
      "1875/1875 - 4s - loss: 0.0587 - accuracy: 0.9787 - 4s/epoch - 2ms/step\n",
      "Epoch 52/100\n",
      "1875/1875 - 4s - loss: 0.0563 - accuracy: 0.9802 - 4s/epoch - 2ms/step\n",
      "Epoch 53/100\n",
      "1875/1875 - 4s - loss: 0.0544 - accuracy: 0.9807 - 4s/epoch - 2ms/step\n",
      "Epoch 54/100\n",
      "1875/1875 - 4s - loss: 0.0532 - accuracy: 0.9814 - 4s/epoch - 2ms/step\n",
      "Epoch 55/100\n",
      "1875/1875 - 4s - loss: 0.0512 - accuracy: 0.9823 - 4s/epoch - 2ms/step\n",
      "Epoch 56/100\n",
      "1875/1875 - 4s - loss: 0.0497 - accuracy: 0.9827 - 4s/epoch - 2ms/step\n",
      "Epoch 57/100\n",
      "1875/1875 - 4s - loss: 0.0473 - accuracy: 0.9839 - 4s/epoch - 2ms/step\n",
      "Epoch 58/100\n",
      "1875/1875 - 4s - loss: 0.0468 - accuracy: 0.9836 - 4s/epoch - 2ms/step\n",
      "Epoch 59/100\n",
      "1875/1875 - 4s - loss: 0.0441 - accuracy: 0.9848 - 4s/epoch - 2ms/step\n",
      "Epoch 60/100\n",
      "1875/1875 - 4s - loss: 0.0426 - accuracy: 0.9853 - 4s/epoch - 2ms/step\n",
      "Epoch 61/100\n",
      "1875/1875 - 4s - loss: 0.0418 - accuracy: 0.9860 - 4s/epoch - 2ms/step\n",
      "Epoch 62/100\n",
      "1875/1875 - 4s - loss: 0.0402 - accuracy: 0.9861 - 4s/epoch - 2ms/step\n",
      "Epoch 63/100\n",
      "1875/1875 - 4s - loss: 0.0386 - accuracy: 0.9866 - 4s/epoch - 2ms/step\n",
      "Epoch 64/100\n",
      "1875/1875 - 4s - loss: 0.0379 - accuracy: 0.9866 - 4s/epoch - 2ms/step\n",
      "Epoch 65/100\n",
      "1875/1875 - 4s - loss: 0.0366 - accuracy: 0.9876 - 4s/epoch - 2ms/step\n",
      "Epoch 66/100\n",
      "1875/1875 - 4s - loss: 0.0344 - accuracy: 0.9885 - 4s/epoch - 2ms/step\n",
      "Epoch 67/100\n",
      "1875/1875 - 4s - loss: 0.0349 - accuracy: 0.9876 - 4s/epoch - 2ms/step\n",
      "Epoch 68/100\n",
      "1875/1875 - 4s - loss: 0.0328 - accuracy: 0.9890 - 4s/epoch - 2ms/step\n",
      "Epoch 69/100\n",
      "1875/1875 - 4s - loss: 0.0311 - accuracy: 0.9894 - 4s/epoch - 2ms/step\n",
      "Epoch 70/100\n",
      "1875/1875 - 4s - loss: 0.0301 - accuracy: 0.9897 - 4s/epoch - 2ms/step\n",
      "Epoch 71/100\n",
      "1875/1875 - 4s - loss: 0.0300 - accuracy: 0.9898 - 4s/epoch - 2ms/step\n",
      "Epoch 72/100\n",
      "1875/1875 - 4s - loss: 0.0294 - accuracy: 0.9897 - 4s/epoch - 2ms/step\n",
      "Epoch 73/100\n",
      "1875/1875 - 4s - loss: 0.0278 - accuracy: 0.9903 - 4s/epoch - 2ms/step\n",
      "Epoch 74/100\n",
      "1875/1875 - 4s - loss: 0.0290 - accuracy: 0.9899 - 4s/epoch - 2ms/step\n",
      "Epoch 75/100\n",
      "1875/1875 - 4s - loss: 0.0264 - accuracy: 0.9910 - 4s/epoch - 2ms/step\n",
      "Epoch 76/100\n",
      "1875/1875 - 4s - loss: 0.0246 - accuracy: 0.9920 - 4s/epoch - 2ms/step\n",
      "Epoch 77/100\n",
      "1875/1875 - 4s - loss: 0.0238 - accuracy: 0.9922 - 4s/epoch - 2ms/step\n",
      "Epoch 78/100\n",
      "1875/1875 - 4s - loss: 0.0233 - accuracy: 0.9923 - 4s/epoch - 2ms/step\n",
      "Epoch 79/100\n",
      "1875/1875 - 4s - loss: 0.0220 - accuracy: 0.9929 - 4s/epoch - 2ms/step\n",
      "Epoch 80/100\n",
      "1875/1875 - 4s - loss: 0.0220 - accuracy: 0.9927 - 4s/epoch - 2ms/step\n",
      "Epoch 81/100\n",
      "1875/1875 - 4s - loss: 0.0212 - accuracy: 0.9930 - 4s/epoch - 2ms/step\n",
      "Epoch 82/100\n",
      "1875/1875 - 4s - loss: 0.0193 - accuracy: 0.9939 - 4s/epoch - 2ms/step\n",
      "Epoch 83/100\n",
      "1875/1875 - 4s - loss: 0.0200 - accuracy: 0.9935 - 4s/epoch - 2ms/step\n",
      "Epoch 84/100\n",
      "1875/1875 - 4s - loss: 0.0190 - accuracy: 0.9939 - 4s/epoch - 2ms/step\n",
      "Epoch 85/100\n",
      "1875/1875 - 4s - loss: 0.0190 - accuracy: 0.9938 - 4s/epoch - 2ms/step\n",
      "Epoch 86/100\n",
      "1875/1875 - 4s - loss: 0.0178 - accuracy: 0.9942 - 4s/epoch - 2ms/step\n",
      "Epoch 87/100\n",
      "1875/1875 - 4s - loss: 0.0174 - accuracy: 0.9941 - 4s/epoch - 2ms/step\n",
      "Epoch 88/100\n",
      "1875/1875 - 4s - loss: 0.0168 - accuracy: 0.9945 - 4s/epoch - 2ms/step\n",
      "Epoch 89/100\n",
      "1875/1875 - 4s - loss: 0.0157 - accuracy: 0.9946 - 4s/epoch - 2ms/step\n",
      "Epoch 90/100\n",
      "1875/1875 - 4s - loss: 0.0156 - accuracy: 0.9947 - 4s/epoch - 2ms/step\n",
      "Epoch 91/100\n",
      "1875/1875 - 4s - loss: 0.0147 - accuracy: 0.9954 - 4s/epoch - 2ms/step\n",
      "Epoch 92/100\n",
      "1875/1875 - 4s - loss: 0.0147 - accuracy: 0.9956 - 4s/epoch - 2ms/step\n",
      "Epoch 93/100\n",
      "1875/1875 - 4s - loss: 0.0149 - accuracy: 0.9954 - 4s/epoch - 2ms/step\n",
      "Epoch 94/100\n",
      "1875/1875 - 4s - loss: 0.0138 - accuracy: 0.9957 - 4s/epoch - 2ms/step\n",
      "Epoch 95/100\n",
      "1875/1875 - 5s - loss: 0.0131 - accuracy: 0.9956 - 5s/epoch - 2ms/step\n",
      "Epoch 96/100\n",
      "1875/1875 - 4s - loss: 0.0125 - accuracy: 0.9961 - 4s/epoch - 2ms/step\n",
      "Epoch 97/100\n",
      "1875/1875 - 4s - loss: 0.0124 - accuracy: 0.9962 - 4s/epoch - 2ms/step\n",
      "Epoch 98/100\n",
      "1875/1875 - 4s - loss: 0.0127 - accuracy: 0.9957 - 4s/epoch - 2ms/step\n",
      "Epoch 99/100\n",
      "1875/1875 - 4s - loss: 0.0131 - accuracy: 0.9957 - 4s/epoch - 2ms/step\n",
      "Epoch 100/100\n",
      "1875/1875 - 4s - loss: 0.0115 - accuracy: 0.9962 - 4s/epoch - 2ms/step\n"
     ]
    },
    {
     "data": {
      "text/plain": [
       "<keras.callbacks.History at 0x1ceebccafd0>"
      ]
     },
     "execution_count": 10,
     "metadata": {},
     "output_type": "execute_result"
    }
   ],
   "source": [
    "model = Sequential()\n",
    "model.add(Flatten())\n",
    "model.add(Dense(300, activation='relu'))\n",
    "model.add(Dense(100, activation='relu'))\n",
    "model.add(Dense(10, activation='softmax'))\n",
    "model.compile(loss='sparse_categorical_crossentropy', optimizer = keras.optimizers.Adamax(),\n",
    "    metrics = ['accuracy'])\n",
    "#optimizer='adam', metrics=['accuracy'])keras.metrics.CategoricalCrossentropy()\n",
    "model.fit(train_input, train_label, epochs=100, verbose=2)"
   ]
  },
  {
   "attachments": {},
   "cell_type": "markdown",
   "metadata": {},
   "source": [
    "# Predicting"
   ]
  },
  {
   "cell_type": "code",
   "execution_count": 11,
   "metadata": {},
   "outputs": [
    {
     "name": "stdout",
     "output_type": "stream",
     "text": [
      "313/313 [==============================] - 1s 2ms/step\n"
     ]
    },
    {
     "data": {
      "text/plain": [
       "90.49000000000001"
      ]
     },
     "execution_count": 11,
     "metadata": {},
     "output_type": "execute_result"
    }
   ],
   "source": [
    "predicted = model.predict(test_input)\n",
    "\n",
    "correct = (np.argmax(predicted, axis=1) == test_label).sum()\n",
    "incorrect = (np.argmax(predicted, axis=1) != test_label).sum()\n",
    "\n",
    "correct_prc = correct / (correct+incorrect) * 100\n",
    "\n",
    "correct_prc"
   ]
  },
  {
   "cell_type": "code",
   "execution_count": null,
   "metadata": {},
   "outputs": [],
   "source": []
  }
 ],
 "metadata": {
  "kernelspec": {
   "display_name": "Python 3",
   "language": "python",
   "name": "python3"
  },
  "language_info": {
   "codemirror_mode": {
    "name": "ipython",
    "version": 3
   },
   "file_extension": ".py",
   "mimetype": "text/x-python",
   "name": "python",
   "nbconvert_exporter": "python",
   "pygments_lexer": "ipython3",
   "version": "3.7.1rc1 (v3.7.1rc1:2064bcf6ce, Sep 26 2018, 15:15:36) [MSC v.1914 64 bit (AMD64)]"
  },
  "orig_nbformat": 4,
  "vscode": {
   "interpreter": {
    "hash": "4302f71f881f01a44fdbbc2ebd8675f271652b3a53c4968c7437bae2749ff913"
   }
  }
 },
 "nbformat": 4,
 "nbformat_minor": 2
}
